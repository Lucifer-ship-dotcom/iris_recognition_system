{
 "cells": [
  {
   "cell_type": "code",
   "execution_count": 1,
   "id": "93fa8d51",
   "metadata": {},
   "outputs": [
    {
     "name": "stdout",
     "output_type": "stream",
     "text": [
      "Accuracy: 0.8\n",
      "Precision: 0.8333333333333333\n",
      "Recall: 0.8333333333333333\n",
      "F1 Score: 0.8\n"
     ]
    }
   ],
   "source": [
    "from sklearn.metrics import accuracy_score, precision_score, recall_score, f1_score\n",
    "\n",
    "# Example true_labels and predicted_labels\n",
    "true_labels = [0, 1, 1, 0, 1]  # Replace with actual true labels\n",
    "predicted_labels = [0, 1, 0, 0, 1]  # Replace with actual predicted labels\n",
    "\n",
    "acc = accuracy_score(true_labels, predicted_labels)\n",
    "prec = precision_score(true_labels, predicted_labels, average='macro')\n",
    "rec = recall_score(true_labels, predicted_labels, average='macro')\n",
    "f1 = f1_score(true_labels, predicted_labels, average='macro')\n",
    "\n",
    "print(f\"Accuracy: {acc}\")\n",
    "print(f\"Precision: {prec}\")\n",
    "print(f\"Recall: {rec}\")\n",
    "print(f\"F1 Score: {f1}\")\n"
   ]
  }
 ],
 "metadata": {
  "kernelspec": {
   "display_name": "Python 3",
   "language": "python",
   "name": "python3"
  },
  "language_info": {
   "codemirror_mode": {
    "name": "ipython",
    "version": 3
   },
   "file_extension": ".py",
   "mimetype": "text/x-python",
   "name": "python",
   "nbconvert_exporter": "python",
   "pygments_lexer": "ipython3",
   "version": "3.13.3"
  }
 },
 "nbformat": 4,
 "nbformat_minor": 5
}
